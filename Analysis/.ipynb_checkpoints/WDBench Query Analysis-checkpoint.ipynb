{
 "cells": [
  {
   "cell_type": "code",
   "execution_count": null,
   "id": "3096befc",
   "metadata": {},
   "outputs": [],
   "source": [
    "!pip install pandas==1.5.1\n",
    "!pip install openpyxl==3.0.10"
   ]
  },
  {
   "cell_type": "code",
   "execution_count": null,
   "id": "e4e8ed3f",
   "metadata": {},
   "outputs": [],
   "source": [
    "import pandas as pd"
   ]
  },
  {
   "cell_type": "code",
   "execution_count": null,
   "id": "63650fdc",
   "metadata": {},
   "outputs": [],
   "source": [
    "# Parse a specific sheet\n",
    "blazeGraphBGPsDf = pd.read_excel('../Results/allBPGS.xlsx', sheet_name=\"BLAZEGRAPH\", usecols=['query_number', 'status'])\n",
    "jenaBGPsDf = pd.read_excel('../Results/allBPGS.xlsx', sheet_name=\"JENA\", usecols=['query_number', 'status'])\n",
    "virtuosoBGPsDf = pd.read_excel('../Results/allBPGS.xlsx', sheet_name=\"VIRTUOSO\", usecols=['query_number', 'status'])\n",
    "neo4jBGPsDf = pd.read_excel('../Results/allBPGS.xlsx', sheet_name=\"NEO4J\", usecols=['query_number', 'status'])"
   ]
  },
  {
   "cell_type": "code",
   "execution_count": null,
   "id": "dd695cfe",
   "metadata": {},
   "outputs": [],
   "source": [
    "# blazeGraphBGPsDf.to_dict(orient='tight')\n",
    "# print(blazeGraphBGPsDf['status'][blazeGraphBGPsDf['query_number'][960]])"
   ]
  },
  {
   "cell_type": "code",
   "execution_count": null,
   "id": "f6fac239",
   "metadata": {},
   "outputs": [],
   "source": [
    "def getTimedOutQueries(dataFrame, system, timedOutQueries):\n",
    "    for queryNumber in range(len(dataFrame['query_number']-1)):\n",
    "        if dataFrame['status'][queryNumber] != \"OK\":\n",
    "            if system not in timedOutQueries.keys():\n",
    "                timedOutQueries[system] = [queryNumber]\n",
    "            else:\n",
    "                timedOutQueries[system].append(queryNumber)"
   ]
  },
  {
   "cell_type": "code",
   "execution_count": null,
   "id": "6843f417",
   "metadata": {},
   "outputs": [],
   "source": [
    "timedOutBGPsQueries = {}\n",
    "getTimedOutQueries(virtuosoBGPsDf, 'VIRTUOSO', timedOutBGPsQueries)\n",
    "getTimedOutQueries(blazeGraphBGPsDf, 'BLAZEGRAPH', timedOutBGPsQueries)\n",
    "getTimedOutQueries(jenaBGPsDf, 'JENA', timedOutBGPsQueries)\n",
    "getTimedOutQueries(neo4jBGPsDf, 'NEO4J', timedOutBGPsQueries)\n",
    "commonTimedOutBGPsQueries = list(set(timedOutBGPsQueries['VIRTUOSO']) & set(timedOutBGPsQueries['JENA']) & set(timedOutBGPsQueries['BLAZEGRAPH']) & set(timedOutBGPsQueries['NEO4J']) )"
   ]
  },
  {
   "cell_type": "code",
   "execution_count": null,
   "id": "41047c64",
   "metadata": {},
   "outputs": [],
   "source": [
    "# Parse C2RPQs\n",
    "blazeGraphC2RPQsDf = pd.read_excel('../Results/C2RPQs.xlsx', sheet_name=\"BLAZEGRAPH\", usecols=['query_number', 'status'])\n",
    "jenaC2RPQsDf = pd.read_excel('../Results/C2RPQs.xlsx', sheet_name=\"JENA\", usecols=['query_number', 'status'])\n",
    "virtuosoC2RPQsDf = pd.read_excel('../Results/C2RPQs.xlsx', sheet_name=\"VIRTUOSO\", usecols=['query_number', 'status'])\n",
    "neo4jC2RPQsDf = pd.read_excel('../Results/C2RPQs.xlsx', sheet_name=\"NEO4J\", usecols=['query_number', 'status'])"
   ]
  },
  {
   "cell_type": "code",
   "execution_count": null,
   "id": "cdb79456",
   "metadata": {},
   "outputs": [],
   "source": [
    "timedOutC2RPQsQueries = {}\n",
    "getTimedOutQueries(virtuosoC2RPQsDf, 'VIRTUOSO', timedOutC2RPQsQueries)\n",
    "getTimedOutQueries(blazeGraphC2RPQsDf, 'BLAZEGRAPH', timedOutC2RPQsQueries)\n",
    "getTimedOutQueries(jenaC2RPQsDf, 'JENA', timedOutC2RPQsQueries)\n",
    "getTimedOutQueries(neo4jC2RPQsDf, 'NEO4J', timedOutC2RPQsQueries)\n",
    "commonTimedOutC2RPQsQueries = list(set(timedOutC2RPQsQueries['VIRTUOSO']) & set(timedOutC2RPQsQueries['JENA']) & set(timedOutC2RPQsQueries['BLAZEGRAPH']) & set(timedOutC2RPQsQueries['NEO4J']) )"
   ]
  },
  {
   "cell_type": "code",
   "execution_count": null,
   "id": "6a49baf0",
   "metadata": {},
   "outputs": [],
   "source": [
    "# Parse Optional\n",
    "\n",
    "blazeGraphOptionalDf = pd.read_excel('../Results/Optional.xlsx', sheet_name=\"BLAZEGRAPH\", usecols=['query_number', 'status'])\n",
    "jenaOptionalDf = pd.read_excel('../Results/Optional.xlsx', sheet_name=\"JENA\", usecols=['query_number', 'status'])\n",
    "virtuosoOptionalDf = pd.read_excel('../Results/Optional.xlsx', sheet_name=\"VIRTUOSO\", usecols=['query_number', 'status'])\n",
    "neo4jOptionalDf = pd.read_excel('../Results/Optional.xlsx', sheet_name=\"NEO4J\", usecols=['query_number', 'status'])"
   ]
  },
  {
   "cell_type": "code",
   "execution_count": null,
   "id": "1860ff3b",
   "metadata": {},
   "outputs": [],
   "source": [
    "timedOutOptionalQueries = {}\n",
    "getTimedOutQueries(virtuosoOptionalDf, 'VIRTUOSO', timedOutOptionalQueries)\n",
    "getTimedOutQueries(blazeGraphOptionalDf, 'BLAZEGRAPH', timedOutOptionalQueries)\n",
    "getTimedOutQueries(jenaOptionalDf, 'JENA', timedOutOptionalQueries)\n",
    "getTimedOutQueries(neo4jOptionalDf, 'NEO4J', timedOutOptionalQueries)\n",
    "commonTimedOutOptionalQueries = list(set(timedOutOptionalQueries['VIRTUOSO']) & set(timedOutOptionalQueries['JENA']) & set(timedOutOptionalQueries['BLAZEGRAPH']) & set(timedOutOptionalQueries['NEO4J']) )"
   ]
  },
  {
   "cell_type": "code",
   "execution_count": null,
   "id": "86bab07a",
   "metadata": {},
   "outputs": [],
   "source": [
    "# Parse Paths\n",
    "\n",
    "blazeGraphPathsDf = pd.read_excel('../Results/Paths.xlsx', sheet_name=\"BLAZEGRAPH\", usecols=['query_number', 'status'])\n",
    "jenaPathsDf = pd.read_excel('../Results/Paths.xlsx', sheet_name=\"JENA\", usecols=['query_number', 'status'])\n",
    "virtuosoPathsDf = pd.read_excel('../Results/Paths.xlsx', sheet_name=\"VIRTUOSO\", usecols=['query_number', 'status'])\n",
    "neo4jPathsDf = pd.read_excel('../Results/Paths.xlsx', sheet_name=\"Neo4J\", usecols=['query_number', 'status'])"
   ]
  },
  {
   "cell_type": "code",
   "execution_count": null,
   "id": "e6112bc5",
   "metadata": {},
   "outputs": [],
   "source": [
    "timedOutPathQueries = {}\n",
    "getTimedOutQueries(virtuosoOptionalDf, 'VIRTUOSO', timedOutPathQueries)\n",
    "getTimedOutQueries(blazeGraphOptionalDf, 'BLAZEGRAPH', timedOutPathQueries)\n",
    "getTimedOutQueries(jenaOptionalDf, 'JENA', timedOutPathQueries)\n",
    "getTimedOutQueries(neo4jOptionalDf, 'NEO4J', timedOutPathQueries)\n",
    "commonTimedOutPathQueries = list(set(timedOutPathQueries['VIRTUOSO']) & set(timedOutPathQueries['JENA']) & set(timedOutPathQueries['BLAZEGRAPH']) & set(timedOutPathQueries['NEO4J']) )"
   ]
  },
  {
   "cell_type": "code",
   "execution_count": null,
   "id": "d3547e2e",
   "metadata": {},
   "outputs": [],
   "source": [
    "# Parse Single\n",
    "\n",
    "blazeGraphSingleDf = pd.read_excel('../Results/Single_BGP.xlsx', sheet_name=\"BLAZEGRAPH\", usecols=['query_number', 'status'])\n",
    "jenaSingleDf = pd.read_excel('../Results/Single_BGP.xlsx', sheet_name=\"JENA\", usecols=['query_number', 'status'])\n",
    "virtuosoSingleDf = pd.read_excel('../Results/Single_BGP.xlsx', sheet_name=\"VIRTUOSO\", usecols=['query_number', 'status'])\n",
    "neo4jSingleDf = pd.read_excel('../Results/Single_BGP.xlsx', sheet_name=\"NEO4J\", usecols=['query_number', 'status'])"
   ]
  },
  {
   "cell_type": "code",
   "execution_count": null,
   "id": "0ad8705c",
   "metadata": {},
   "outputs": [],
   "source": [
    "timedOutSingleQueries = {}\n",
    "getTimedOutQueries(virtuosoSingleDf, 'VIRTUOSO', timedOutSingleQueries)\n",
    "getTimedOutQueries(blazeGraphSingleDf, 'BLAZEGRAPH', timedOutSingleQueries)\n",
    "getTimedOutQueries(jenaSingleDf, 'JENA', timedOutSingleQueries)\n",
    "getTimedOutQueries(neo4jSingleDf, 'NEO4J', timedOutSingleQueries)\n",
    "commonTimedOutSingleQueries = list(set(timedOutSingleQueries['VIRTUOSO']) & set(timedOutSingleQueries['JENA']) & set(timedOutSingleQueries['BLAZEGRAPH']) & set(timedOutSingleQueries['NEO4J']) )"
   ]
  },
  {
   "cell_type": "markdown",
   "id": "f7665c3f",
   "metadata": {},
   "source": [
    "## BGPs timed out in all engines"
   ]
  },
  {
   "cell_type": "code",
   "execution_count": null,
   "id": "8c665b30",
   "metadata": {},
   "outputs": [],
   "source": [
    "print(commonTimedOutBGPsQueries)\n",
    "with open('../Queries/multiple_bgps.txt', 'r') as fMultiple:\n",
    "    queriesMultiple = fMultiple.readlines()\n",
    "    for query in commonTimedOutBGPsQueries:\n",
    "        print(queriesMultiple[query - 1])"
   ]
  },
  {
   "cell_type": "markdown",
   "id": "22732be3",
   "metadata": {},
   "source": [
    "## C2RPQs timed out in all engines"
   ]
  },
  {
   "cell_type": "code",
   "execution_count": null,
   "id": "6871c5a0",
   "metadata": {},
   "outputs": [],
   "source": [
    "print(commonTimedOutC2RPQsQueries)\n",
    "with open('../Queries/c2rpqs.txt', 'r') as fMultiple:\n",
    "    queriesMultiple = fMultiple.readlines()\n",
    "    for query in commonTimedOutC2RPQsQueries:\n",
    "        print(queriesMultiple[query - 1])"
   ]
  },
  {
   "cell_type": "markdown",
   "id": "87156457",
   "metadata": {},
   "source": [
    "## Optional timed out in all engines"
   ]
  },
  {
   "cell_type": "code",
   "execution_count": null,
   "id": "a487ba31",
   "metadata": {},
   "outputs": [],
   "source": [
    "print(commonTimedOutOptionalQueries)\n",
    "with open('../Queries/opts.txt', 'r') as fMultiple:\n",
    "    queriesMultiple = fMultiple.readlines()\n",
    "    for query in commonTimedOutOptionalQueries:\n",
    "        print(queriesMultiple[query - 1])"
   ]
  },
  {
   "cell_type": "markdown",
   "id": "00e44cdf",
   "metadata": {},
   "source": [
    "## Paths timed out in all engines"
   ]
  },
  {
   "cell_type": "code",
   "execution_count": null,
   "id": "f843d0e0",
   "metadata": {
    "scrolled": true
   },
   "outputs": [],
   "source": [
    "print(commonTimedOutPathQueries)\n",
    "with open('../Queries/paths.txt', 'r') as fMultiple:\n",
    "    queriesMultiple = fMultiple.readlines()\n",
    "    for query in commonTimedOutPathQueries:\n",
    "        print(queriesMultiple[query - 1])"
   ]
  },
  {
   "cell_type": "markdown",
   "id": "e380de1f",
   "metadata": {},
   "source": [
    "## Single BGP timed out in all engines"
   ]
  },
  {
   "cell_type": "code",
   "execution_count": null,
   "id": "23bcd8a8",
   "metadata": {},
   "outputs": [],
   "source": [
    "print(commonTimedOutSingleQueries)\n",
    "with open('../Queries/single_bgps.txt', 'r') as fMultiple:\n",
    "    queriesMultiple = fMultiple.readlines()\n",
    "    for query in commonTimedOutSingleQueries:\n",
    "        print(queriesMultiple[query - 1])"
   ]
  },
  {
   "cell_type": "code",
   "execution_count": null,
   "id": "7089b675",
   "metadata": {},
   "outputs": [],
   "source": []
  }
 ],
 "metadata": {
  "kernelspec": {
   "display_name": "Python 3 (ipykernel)",
   "language": "python",
   "name": "python3"
  },
  "language_info": {
   "codemirror_mode": {
    "name": "ipython",
    "version": 3
   },
   "file_extension": ".py",
   "mimetype": "text/x-python",
   "name": "python",
   "nbconvert_exporter": "python",
   "pygments_lexer": "ipython3",
   "version": "3.10.6"
  }
 },
 "nbformat": 4,
 "nbformat_minor": 5
}
